{
 "cells": [
  {
   "cell_type": "code",
   "execution_count": 1,
   "metadata": {},
   "outputs": [],
   "source": [
    "import pickle\n",
    "from recommender import cryto_recommender\n",
    "from price_api import get_newone"
   ]
  },
  {
   "cell_type": "code",
   "execution_count": 2,
   "metadata": {
    "collapsed": true
   },
   "outputs": [],
   "source": [
    "with open('./pkl/history.pkl', 'rb') as f:\n",
    "    history = pickle.load(f)    "
   ]
  },
  {
   "cell_type": "code",
   "execution_count": 3,
   "metadata": {},
   "outputs": [],
   "source": [
    "new = get_newone()"
   ]
  },
  {
   "cell_type": "code",
   "execution_count": 4,
   "metadata": {},
   "outputs": [
    {
     "name": "stderr",
     "output_type": "stream",
     "text": [
      "C:\\Users\\snowh\\Anaconda3\\lib\\site-packages\\numpy\\lib\\function_base.py:3167: RuntimeWarning: invalid value encountered in true_divide\n",
      "  c /= stddev[:, None]\n",
      "C:\\Users\\snowh\\Anaconda3\\lib\\site-packages\\numpy\\lib\\function_base.py:3168: RuntimeWarning: invalid value encountered in true_divide\n",
      "  c /= stddev[None, :]\n"
     ]
    }
   ],
   "source": [
    "recommend = cryto_recommender(history, new, n_recommend = 10)"
   ]
  },
  {
   "cell_type": "code",
   "execution_count": 5,
   "metadata": {},
   "outputs": [
    {
     "data": {
      "text/plain": [
       "[('DOGE', 0.089147953151371098),\n",
       " ('PINK', 0.086095582495343798),\n",
       " ('XEM', 0.074775267831597228),\n",
       " ('CLAM', 0.070614487907309412),\n",
       " ('XRP', 0.067077412079390858),\n",
       " ('BELA', 0.062148591166617119),\n",
       " ('STEEM', 0.061509597532779188),\n",
       " ('EMC2', 0.057206625937233385),\n",
       " ('RIC', 0.043255328107532812),\n",
       " ('GRC', 0.041580424138729283)]"
      ]
     },
     "execution_count": 5,
     "metadata": {},
     "output_type": "execute_result"
    }
   ],
   "source": [
    "recommend"
   ]
  }
 ],
 "metadata": {
  "kernelspec": {
   "display_name": "Python 3",
   "language": "python",
   "name": "python3"
  },
  "language_info": {
   "codemirror_mode": {
    "name": "ipython",
    "version": 3
   },
   "file_extension": ".py",
   "mimetype": "text/x-python",
   "name": "python",
   "nbconvert_exporter": "python",
   "pygments_lexer": "ipython3",
   "version": "3.6.1"
  }
 },
 "nbformat": 4,
 "nbformat_minor": 2
}
